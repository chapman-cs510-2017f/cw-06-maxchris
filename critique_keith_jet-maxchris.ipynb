{
 "cells": [
  {
   "cell_type": "markdown",
   "metadata": {
    "collapsed": false
   },
   "source": [
    "# Critique CW05 of Group Max Chris\n",
    "--------\n",
    "### Docstrings\n",
    "* No docstrings for the entire file\n",
    "* Functions docstring should be before the coding, not after the coding of the function\n",
    "* Do good job in inline comments\n",
    "* Some functions have no docstring\n",
    "\n",
    "### Code Organization\n",
    "* Not very understand algorithm because docstring missed for some functions\n",
    "* Use some unnecessary varibles in function zoom (x, y, n, m)\n",
    "* no need to return an properity of an instance of class\n",
    "\n",
    "### Test\n",
    "* Test passed\n",
    "* function list not tested\n",
    "\n",
    "### Suggestion\n",
    "* Set travis CI test\n",
    "* Follow the Google Docstring Guideline \n",
    "\n"
   ]
  },
  {
   "cell_type": "code",
   "execution_count": 0,
   "metadata": {
    "collapsed": false
   },
   "outputs": [
   ],
   "source": [
   ]
  }
 ],
 "metadata": {
  "kernelspec": {
   "display_name": "Python 3 (Ubuntu Linux)",
   "language": "python",
   "name": "python3"
  },
  "language_info": {
   "codemirror_mode": {
    "name": "ipython",
    "version": 3
   },
   "file_extension": ".py",
   "mimetype": "text/x-python",
   "name": "python",
   "nbconvert_exporter": "python",
   "pygments_lexer": "ipython3",
   "version": "3.5.2"
  }
 },
 "nbformat": 4,
 "nbformat_minor": 0
}