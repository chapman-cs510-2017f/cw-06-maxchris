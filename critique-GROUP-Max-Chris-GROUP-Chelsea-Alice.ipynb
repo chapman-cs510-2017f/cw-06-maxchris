{
 "cells": [
  {
   "cell_type": "markdown",
   "metadata": {
    "collapsed": false
   },
   "source": [
    "# Group Critique of Chelsea and Alice' Classwork 5\n",
    "\n",
    "The code is clear with the programmer explanation, but it is not as clear by just loking at it. The structure of the code is understandable, but there are not enough comments and bookmarks accourding to industry standards. The algorythm is structured pretty clear, so that you can follow it without explanation. The test of the program is clear. We would suggest to add more comments."
   ]
  },
  {
   "cell_type": "code",
   "execution_count": 0,
   "metadata": {
    "collapsed": false
   },
   "outputs": [
   ],
   "source": [
   ]
  }
 ],
 "metadata": {
  "kernelspec": {
   "display_name": "Python 2 (SageMath)",
   "language": "python",
   "name": "python2"
  },
  "language_info": {
   "codemirror_mode": {
    "name": "ipython",
    "version": 2
   },
   "file_extension": ".py",
   "mimetype": "text/x-python",
   "name": "python",
   "nbconvert_exporter": "python",
   "pygments_lexer": "ipython2",
   "version": "2.7.13"
  }
 },
 "nbformat": 4,
 "nbformat_minor": 0
}